{
 "cells": [
  {
   "cell_type": "markdown",
   "id": "8352dc82",
   "metadata": {},
   "source": [
    "#                                           Rule-based Chatbot"
   ]
  },
  {
   "cell_type": "markdown",
   "id": "abf0545b",
   "metadata": {},
   "source": [
    "pip command to install library in  python\n",
    "\n",
    "\n"
   ]
  },
  {
   "cell_type": "code",
   "execution_count": null,
   "id": "27b5eed7",
   "metadata": {},
   "outputs": [],
   "source": [
    "#pip install tkinter\n",
    "#pip install nltk"
   ]
  },
  {
   "cell_type": "code",
   "execution_count": 1,
   "id": "0f756112",
   "metadata": {},
   "outputs": [],
   "source": [
    "#Importing librabries\n",
    "from tkinter import *\n",
    "import nltk\n",
    "from nltk.chat.util import Chat, reflections"
   ]
  },
  {
   "cell_type": "code",
   "execution_count": 2,
   "id": "7df7b268",
   "metadata": {},
   "outputs": [
    {
     "data": {
      "text/plain": [
       "''"
      ]
     },
     "execution_count": 2,
     "metadata": {},
     "output_type": "execute_result"
    }
   ],
   "source": [
    "# Initialize the Tkinter GUI\n",
    "root = Tk()\n",
    "root.title(\"Chatbot\")"
   ]
  },
  {
   "cell_type": "code",
   "execution_count": 3,
   "id": "067889ed",
   "metadata": {},
   "outputs": [],
   "source": [
    "# Function to send the user's message and generate bot's response\n",
    "def send():\n",
    "    send = \"You -> \" + e.get()\n",
    "    txt.insert(END, \"\\n\" + send)\n",
    "    user = e.get().lower()\n",
    "    \n",
    "    # Define the chatbot responses based on user input\n",
    "    if user == \"hello\":\n",
    "        txt.insert(END, \"\\n\" + \"Bot -> Hi\")\n",
    "    elif user == \"hi\" or user == \"hii\" or user == \"hiiii\":\n",
    "        txt.insert(END, \"\\n\" + \"Bot -> Hello\")\n",
    "    elif e.get() == \"how are you\":\n",
    "        txt.insert(END, \"\\n\" + \"Bot -> Fine! And you?\")\n",
    "    elif user == \"fine\" or user == \"i am good\" or user == \"i am doing good\":\n",
    "        txt.insert(END, \"\\n\" + \"Bot -> Great! How can I help you?\")\n",
    "    else:\n",
    "        txt.insert(END, \"\\n\" + \"Bot -> Sorry! I didn't understand.\")\n",
    "    e.delete(0, END)"
   ]
  },
  {
   "cell_type": "code",
   "execution_count": 4,
   "id": "a1d58cf2",
   "metadata": {},
   "outputs": [],
   "source": [
    "# Create the chat window\n",
    "txt = Text(root)\n",
    "txt.grid(row=0, column=0, columnspan=2)\n"
   ]
  },
  {
   "cell_type": "code",
   "execution_count": 5,
   "id": "5bc02813",
   "metadata": {},
   "outputs": [],
   "source": [
    "# Create the message input field\n",
    "e = Entry(root, width=100)\n",
    "e.grid(row=1, column=0)\n",
    "\n",
    "# Create the send button\n",
    "send = Button(root, text=\"Send\", command=send).grid(row=1, column=1)\n",
    "\n",
    "# Start the main event loop\n",
    "root.mainloop()"
   ]
  },
  {
   "cell_type": "markdown",
   "id": "01324dec",
   "metadata": {},
   "source": [
    "# Chatbot logic"
   ]
  },
  {
   "cell_type": "code",
   "execution_count": 9,
   "id": "2801c1b0",
   "metadata": {},
   "outputs": [
    {
     "data": {
      "text/plain": [
       "{'i am': 'you are',\n",
       " 'i was': 'you were',\n",
       " 'i': 'you',\n",
       " \"i'm\": 'you are',\n",
       " \"i'd\": 'you would',\n",
       " \"i've\": 'you have',\n",
       " \"i'll\": 'you will',\n",
       " 'my': 'your',\n",
       " 'you are': 'I am',\n",
       " 'you were': 'I was',\n",
       " \"you've\": 'I have',\n",
       " \"you'll\": 'I will',\n",
       " 'your': 'my',\n",
       " 'yours': 'mine',\n",
       " 'you': 'me',\n",
       " 'me': 'you'}"
      ]
     },
     "execution_count": 9,
     "metadata": {},
     "output_type": "execute_result"
    }
   ],
   "source": [
    "# Reflections for chatbot responses\n",
    "reflections "
   ]
  },
  {
   "cell_type": "code",
   "execution_count": 10,
   "id": "91809195",
   "metadata": {},
   "outputs": [],
   "source": [
    "\n",
    "# Pairs of patterns and responses for the chatbot\n",
    "pairs = [\n",
    "    [\n",
    "        r\"my name is (.*)\",\n",
    "        [\"Hello %1, how are you today?\"]\n",
    "    ],\n",
    "    [\n",
    "        r\"hi|hey|hello\",\n",
    "        [\"Hello\", \"Hey there\"]\n",
    "    ],\n",
    "    [\n",
    "        r\"what is your name ?\",\n",
    "        [\"I am a bot created by MasterYou. You can call me crazy!\"]\n",
    "    ],\n",
    "    [\n",
    "        r\"how are you ?\",\n",
    "        [\"I'm doing good. How about you?\"]\n",
    "    ],\n",
    "    [\n",
    "        r\"sorry (.*)\",\n",
    "        [\"It's alright\", \"It's OK, never mind\"]\n",
    "    ],\n",
    "    [\n",
    "        r\"I am fine\",\n",
    "        [\"Great to hear that. How can I help you?\"]\n",
    "    ],\n",
    "    [\n",
    "        r\"i'm (.*) doing good\",\n",
    "        [\"Nice to hear that. How can I help you?\"]\n",
    "    ],\n",
    "    [\n",
    "        r\"(.*) age?\",\n",
    "        [\"I'm a computer program. Seriously, you are asking me this?\"]\n",
    "    ],\n",
    "    [\n",
    "        r\"what (.*) want ?\",\n",
    "        [\"Make me an offer I can't refuse\"]\n",
    "    ],\n",
    "    [\n",
    "        r\"(.*) created ?\",\n",
    "        [\"Nitesh created me using Python's NLTK library\", \"Top secret ;)\"]\n",
    "    ],\n",
    "    [\n",
    "        r\"(.*) (location|city) ?\",\n",
    "        [\"Indore, Madhya Pradesh\"]\n",
    "    ],\n",
    "    [\n",
    "        r\"how is weather in (.*)?\",\n",
    "        [\"Weather in %1 is awesome like always\", \"Too hot here in %1\", \"Too cold here in %1\", \"Never even heard about %1\"]\n",
    "    ],\n",
    "    [\n",
    "        r\"i work in (.*)?\",\n",
    "        [\"%1 is an amazing company. I have heard about it, but they are in huge loss these days.\"]\n",
    "    ],\n",
    "    [\n",
    "        r\"(.*)raining in (.*)\",\n",
    "        [\"No rain since last week here in %2\", \"Damn, it's raining too much here in %2\"]\n",
    "    ],\n",
    "    [\n",
    "        r\"how (.*) health(.*)\",\n",
    "        [\"I'm a computer program, so I'm always healthy\"]\n",
    "    ],\n",
    "    [\n",
    "        r\"(.*) (sports|game) ?\",\n",
    "        [\"I'm a very big fan of Football\"]\n",
    "    ],\n",
    "    [\n",
    "        r\"who (.*) sportsperson ?\",\n",
    "        [\"Messi\", \"Ronaldo\", \"Rooney\"]\n",
    "    ],\n",
    "    [\n",
    "        r\"who (.*) (moviestar|actor)?\",\n",
    "        [\"Brad Pitt\"]\n",
    "    ],\n",
    "    [\n",
    "        r\"i am looking for online guides and courses to learn data science, can you suggest?\",\n",
    "        [\"Analytics Vidhya has many great articles with step-by-step explanations along with code. You can explore them.\"]\n",
    "    ],\n",
    "    [\n",
    "        r\"quit\",\n",
    "        [\"Bye! Take care. See you soon :)\", \"It was nice talking to you. See you soon :)\"]\n",
    "    ],\n",
    "]\n"
   ]
  },
  {
   "cell_type": "code",
   "execution_count": 11,
   "id": "b723edf4",
   "metadata": {},
   "outputs": [],
   "source": [
    "\n",
    "# Function to initiate the conversation with the chatbot\n",
    "def chat():\n",
    "    print(\"Hi! I am a chatbot created by MasterYou for your service\")\n",
    "    chat = Chat(pairs, reflections)\n",
    "    chat.converse()"
   ]
  },
  {
   "cell_type": "code",
   "execution_count": 12,
   "id": "e03465f8",
   "metadata": {},
   "outputs": [
    {
     "name": "stdout",
     "output_type": "stream",
     "text": [
      "Hi! I am a chatbot created by MasterYou for your service\n",
      ">hi\n",
      "Hello\n",
      ">my name is nitesh\n",
      "Hello nitesh, how are you today?\n",
      ">i am fine\n",
      "Great to hear that. How can I help you?\n",
      ">who created you\n",
      "Top secret ;)\n",
      ">what is your age\n",
      "I'm a computer program. Seriously, you are asking me this?\n",
      ">what is your name\n",
      "I am a bot created by MasterYou. You can call me crazy!\n",
      ">how is your health\n",
      "I'm a computer program, so I'm always healthy\n",
      ">which sport do you like\n",
      "None\n",
      ">quit\n",
      "It was nice talking to you. See you soon :)\n"
     ]
    }
   ],
   "source": [
    "\n",
    "# Initiate the conversation\n",
    "if __name__ == \"__main__\":\n",
    "    chat()\n"
   ]
  },
  {
   "cell_type": "code",
   "execution_count": null,
   "id": "e82e3546",
   "metadata": {},
   "outputs": [],
   "source": []
  }
 ],
 "metadata": {
  "kernelspec": {
   "display_name": "Python 3 (ipykernel)",
   "language": "python",
   "name": "python3"
  },
  "language_info": {
   "codemirror_mode": {
    "name": "ipython",
    "version": 3
   },
   "file_extension": ".py",
   "mimetype": "text/x-python",
   "name": "python",
   "nbconvert_exporter": "python",
   "pygments_lexer": "ipython3",
   "version": "3.9.12"
  }
 },
 "nbformat": 4,
 "nbformat_minor": 5
}
